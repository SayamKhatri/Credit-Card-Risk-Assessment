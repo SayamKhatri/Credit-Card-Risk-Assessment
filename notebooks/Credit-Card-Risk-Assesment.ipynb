{
 "cells": [
  {
   "cell_type": "code",
   "execution_count": 1,
   "id": "7ebf9408",
   "metadata": {},
   "outputs": [],
   "source": [
    "import pandas as pd \n",
    "\n",
    "df = pd.read_csv('UCI_Credit_Card.csv')"
   ]
  },
  {
   "cell_type": "code",
   "execution_count": 2,
   "id": "6dea8249",
   "metadata": {},
   "outputs": [
    {
     "data": {
      "text/html": [
       "<div>\n",
       "<style scoped>\n",
       "    .dataframe tbody tr th:only-of-type {\n",
       "        vertical-align: middle;\n",
       "    }\n",
       "\n",
       "    .dataframe tbody tr th {\n",
       "        vertical-align: top;\n",
       "    }\n",
       "\n",
       "    .dataframe thead th {\n",
       "        text-align: right;\n",
       "    }\n",
       "</style>\n",
       "<table border=\"1\" class=\"dataframe\">\n",
       "  <thead>\n",
       "    <tr style=\"text-align: right;\">\n",
       "      <th></th>\n",
       "      <th>ID</th>\n",
       "      <th>LIMIT_BAL</th>\n",
       "      <th>SEX</th>\n",
       "      <th>EDUCATION</th>\n",
       "      <th>MARRIAGE</th>\n",
       "      <th>AGE</th>\n",
       "      <th>PAY_0</th>\n",
       "      <th>PAY_2</th>\n",
       "      <th>PAY_3</th>\n",
       "      <th>PAY_4</th>\n",
       "      <th>...</th>\n",
       "      <th>BILL_AMT4</th>\n",
       "      <th>BILL_AMT5</th>\n",
       "      <th>BILL_AMT6</th>\n",
       "      <th>PAY_AMT1</th>\n",
       "      <th>PAY_AMT2</th>\n",
       "      <th>PAY_AMT3</th>\n",
       "      <th>PAY_AMT4</th>\n",
       "      <th>PAY_AMT5</th>\n",
       "      <th>PAY_AMT6</th>\n",
       "      <th>default.payment.next.month</th>\n",
       "    </tr>\n",
       "  </thead>\n",
       "  <tbody>\n",
       "    <tr>\n",
       "      <th>0</th>\n",
       "      <td>1</td>\n",
       "      <td>20000.0</td>\n",
       "      <td>2</td>\n",
       "      <td>2</td>\n",
       "      <td>1</td>\n",
       "      <td>24</td>\n",
       "      <td>2</td>\n",
       "      <td>2</td>\n",
       "      <td>-1</td>\n",
       "      <td>-1</td>\n",
       "      <td>...</td>\n",
       "      <td>0.0</td>\n",
       "      <td>0.0</td>\n",
       "      <td>0.0</td>\n",
       "      <td>0.0</td>\n",
       "      <td>689.0</td>\n",
       "      <td>0.0</td>\n",
       "      <td>0.0</td>\n",
       "      <td>0.0</td>\n",
       "      <td>0.0</td>\n",
       "      <td>1</td>\n",
       "    </tr>\n",
       "    <tr>\n",
       "      <th>1</th>\n",
       "      <td>2</td>\n",
       "      <td>120000.0</td>\n",
       "      <td>2</td>\n",
       "      <td>2</td>\n",
       "      <td>2</td>\n",
       "      <td>26</td>\n",
       "      <td>-1</td>\n",
       "      <td>2</td>\n",
       "      <td>0</td>\n",
       "      <td>0</td>\n",
       "      <td>...</td>\n",
       "      <td>3272.0</td>\n",
       "      <td>3455.0</td>\n",
       "      <td>3261.0</td>\n",
       "      <td>0.0</td>\n",
       "      <td>1000.0</td>\n",
       "      <td>1000.0</td>\n",
       "      <td>1000.0</td>\n",
       "      <td>0.0</td>\n",
       "      <td>2000.0</td>\n",
       "      <td>1</td>\n",
       "    </tr>\n",
       "    <tr>\n",
       "      <th>2</th>\n",
       "      <td>3</td>\n",
       "      <td>90000.0</td>\n",
       "      <td>2</td>\n",
       "      <td>2</td>\n",
       "      <td>2</td>\n",
       "      <td>34</td>\n",
       "      <td>0</td>\n",
       "      <td>0</td>\n",
       "      <td>0</td>\n",
       "      <td>0</td>\n",
       "      <td>...</td>\n",
       "      <td>14331.0</td>\n",
       "      <td>14948.0</td>\n",
       "      <td>15549.0</td>\n",
       "      <td>1518.0</td>\n",
       "      <td>1500.0</td>\n",
       "      <td>1000.0</td>\n",
       "      <td>1000.0</td>\n",
       "      <td>1000.0</td>\n",
       "      <td>5000.0</td>\n",
       "      <td>0</td>\n",
       "    </tr>\n",
       "    <tr>\n",
       "      <th>3</th>\n",
       "      <td>4</td>\n",
       "      <td>50000.0</td>\n",
       "      <td>2</td>\n",
       "      <td>2</td>\n",
       "      <td>1</td>\n",
       "      <td>37</td>\n",
       "      <td>0</td>\n",
       "      <td>0</td>\n",
       "      <td>0</td>\n",
       "      <td>0</td>\n",
       "      <td>...</td>\n",
       "      <td>28314.0</td>\n",
       "      <td>28959.0</td>\n",
       "      <td>29547.0</td>\n",
       "      <td>2000.0</td>\n",
       "      <td>2019.0</td>\n",
       "      <td>1200.0</td>\n",
       "      <td>1100.0</td>\n",
       "      <td>1069.0</td>\n",
       "      <td>1000.0</td>\n",
       "      <td>0</td>\n",
       "    </tr>\n",
       "    <tr>\n",
       "      <th>4</th>\n",
       "      <td>5</td>\n",
       "      <td>50000.0</td>\n",
       "      <td>1</td>\n",
       "      <td>2</td>\n",
       "      <td>1</td>\n",
       "      <td>57</td>\n",
       "      <td>-1</td>\n",
       "      <td>0</td>\n",
       "      <td>-1</td>\n",
       "      <td>0</td>\n",
       "      <td>...</td>\n",
       "      <td>20940.0</td>\n",
       "      <td>19146.0</td>\n",
       "      <td>19131.0</td>\n",
       "      <td>2000.0</td>\n",
       "      <td>36681.0</td>\n",
       "      <td>10000.0</td>\n",
       "      <td>9000.0</td>\n",
       "      <td>689.0</td>\n",
       "      <td>679.0</td>\n",
       "      <td>0</td>\n",
       "    </tr>\n",
       "    <tr>\n",
       "      <th>...</th>\n",
       "      <td>...</td>\n",
       "      <td>...</td>\n",
       "      <td>...</td>\n",
       "      <td>...</td>\n",
       "      <td>...</td>\n",
       "      <td>...</td>\n",
       "      <td>...</td>\n",
       "      <td>...</td>\n",
       "      <td>...</td>\n",
       "      <td>...</td>\n",
       "      <td>...</td>\n",
       "      <td>...</td>\n",
       "      <td>...</td>\n",
       "      <td>...</td>\n",
       "      <td>...</td>\n",
       "      <td>...</td>\n",
       "      <td>...</td>\n",
       "      <td>...</td>\n",
       "      <td>...</td>\n",
       "      <td>...</td>\n",
       "      <td>...</td>\n",
       "    </tr>\n",
       "    <tr>\n",
       "      <th>29995</th>\n",
       "      <td>29996</td>\n",
       "      <td>220000.0</td>\n",
       "      <td>1</td>\n",
       "      <td>3</td>\n",
       "      <td>1</td>\n",
       "      <td>39</td>\n",
       "      <td>0</td>\n",
       "      <td>0</td>\n",
       "      <td>0</td>\n",
       "      <td>0</td>\n",
       "      <td>...</td>\n",
       "      <td>88004.0</td>\n",
       "      <td>31237.0</td>\n",
       "      <td>15980.0</td>\n",
       "      <td>8500.0</td>\n",
       "      <td>20000.0</td>\n",
       "      <td>5003.0</td>\n",
       "      <td>3047.0</td>\n",
       "      <td>5000.0</td>\n",
       "      <td>1000.0</td>\n",
       "      <td>0</td>\n",
       "    </tr>\n",
       "    <tr>\n",
       "      <th>29996</th>\n",
       "      <td>29997</td>\n",
       "      <td>150000.0</td>\n",
       "      <td>1</td>\n",
       "      <td>3</td>\n",
       "      <td>2</td>\n",
       "      <td>43</td>\n",
       "      <td>-1</td>\n",
       "      <td>-1</td>\n",
       "      <td>-1</td>\n",
       "      <td>-1</td>\n",
       "      <td>...</td>\n",
       "      <td>8979.0</td>\n",
       "      <td>5190.0</td>\n",
       "      <td>0.0</td>\n",
       "      <td>1837.0</td>\n",
       "      <td>3526.0</td>\n",
       "      <td>8998.0</td>\n",
       "      <td>129.0</td>\n",
       "      <td>0.0</td>\n",
       "      <td>0.0</td>\n",
       "      <td>0</td>\n",
       "    </tr>\n",
       "    <tr>\n",
       "      <th>29997</th>\n",
       "      <td>29998</td>\n",
       "      <td>30000.0</td>\n",
       "      <td>1</td>\n",
       "      <td>2</td>\n",
       "      <td>2</td>\n",
       "      <td>37</td>\n",
       "      <td>4</td>\n",
       "      <td>3</td>\n",
       "      <td>2</td>\n",
       "      <td>-1</td>\n",
       "      <td>...</td>\n",
       "      <td>20878.0</td>\n",
       "      <td>20582.0</td>\n",
       "      <td>19357.0</td>\n",
       "      <td>0.0</td>\n",
       "      <td>0.0</td>\n",
       "      <td>22000.0</td>\n",
       "      <td>4200.0</td>\n",
       "      <td>2000.0</td>\n",
       "      <td>3100.0</td>\n",
       "      <td>1</td>\n",
       "    </tr>\n",
       "    <tr>\n",
       "      <th>29998</th>\n",
       "      <td>29999</td>\n",
       "      <td>80000.0</td>\n",
       "      <td>1</td>\n",
       "      <td>3</td>\n",
       "      <td>1</td>\n",
       "      <td>41</td>\n",
       "      <td>1</td>\n",
       "      <td>-1</td>\n",
       "      <td>0</td>\n",
       "      <td>0</td>\n",
       "      <td>...</td>\n",
       "      <td>52774.0</td>\n",
       "      <td>11855.0</td>\n",
       "      <td>48944.0</td>\n",
       "      <td>85900.0</td>\n",
       "      <td>3409.0</td>\n",
       "      <td>1178.0</td>\n",
       "      <td>1926.0</td>\n",
       "      <td>52964.0</td>\n",
       "      <td>1804.0</td>\n",
       "      <td>1</td>\n",
       "    </tr>\n",
       "    <tr>\n",
       "      <th>29999</th>\n",
       "      <td>30000</td>\n",
       "      <td>50000.0</td>\n",
       "      <td>1</td>\n",
       "      <td>2</td>\n",
       "      <td>1</td>\n",
       "      <td>46</td>\n",
       "      <td>0</td>\n",
       "      <td>0</td>\n",
       "      <td>0</td>\n",
       "      <td>0</td>\n",
       "      <td>...</td>\n",
       "      <td>36535.0</td>\n",
       "      <td>32428.0</td>\n",
       "      <td>15313.0</td>\n",
       "      <td>2078.0</td>\n",
       "      <td>1800.0</td>\n",
       "      <td>1430.0</td>\n",
       "      <td>1000.0</td>\n",
       "      <td>1000.0</td>\n",
       "      <td>1000.0</td>\n",
       "      <td>1</td>\n",
       "    </tr>\n",
       "  </tbody>\n",
       "</table>\n",
       "<p>30000 rows × 25 columns</p>\n",
       "</div>"
      ],
      "text/plain": [
       "          ID  LIMIT_BAL  SEX  EDUCATION  MARRIAGE  AGE  PAY_0  PAY_2  PAY_3  \\\n",
       "0          1    20000.0    2          2         1   24      2      2     -1   \n",
       "1          2   120000.0    2          2         2   26     -1      2      0   \n",
       "2          3    90000.0    2          2         2   34      0      0      0   \n",
       "3          4    50000.0    2          2         1   37      0      0      0   \n",
       "4          5    50000.0    1          2         1   57     -1      0     -1   \n",
       "...      ...        ...  ...        ...       ...  ...    ...    ...    ...   \n",
       "29995  29996   220000.0    1          3         1   39      0      0      0   \n",
       "29996  29997   150000.0    1          3         2   43     -1     -1     -1   \n",
       "29997  29998    30000.0    1          2         2   37      4      3      2   \n",
       "29998  29999    80000.0    1          3         1   41      1     -1      0   \n",
       "29999  30000    50000.0    1          2         1   46      0      0      0   \n",
       "\n",
       "       PAY_4  ...  BILL_AMT4  BILL_AMT5  BILL_AMT6  PAY_AMT1  PAY_AMT2  \\\n",
       "0         -1  ...        0.0        0.0        0.0       0.0     689.0   \n",
       "1          0  ...     3272.0     3455.0     3261.0       0.0    1000.0   \n",
       "2          0  ...    14331.0    14948.0    15549.0    1518.0    1500.0   \n",
       "3          0  ...    28314.0    28959.0    29547.0    2000.0    2019.0   \n",
       "4          0  ...    20940.0    19146.0    19131.0    2000.0   36681.0   \n",
       "...      ...  ...        ...        ...        ...       ...       ...   \n",
       "29995      0  ...    88004.0    31237.0    15980.0    8500.0   20000.0   \n",
       "29996     -1  ...     8979.0     5190.0        0.0    1837.0    3526.0   \n",
       "29997     -1  ...    20878.0    20582.0    19357.0       0.0       0.0   \n",
       "29998      0  ...    52774.0    11855.0    48944.0   85900.0    3409.0   \n",
       "29999      0  ...    36535.0    32428.0    15313.0    2078.0    1800.0   \n",
       "\n",
       "       PAY_AMT3  PAY_AMT4  PAY_AMT5  PAY_AMT6  default.payment.next.month  \n",
       "0           0.0       0.0       0.0       0.0                           1  \n",
       "1        1000.0    1000.0       0.0    2000.0                           1  \n",
       "2        1000.0    1000.0    1000.0    5000.0                           0  \n",
       "3        1200.0    1100.0    1069.0    1000.0                           0  \n",
       "4       10000.0    9000.0     689.0     679.0                           0  \n",
       "...         ...       ...       ...       ...                         ...  \n",
       "29995    5003.0    3047.0    5000.0    1000.0                           0  \n",
       "29996    8998.0     129.0       0.0       0.0                           0  \n",
       "29997   22000.0    4200.0    2000.0    3100.0                           1  \n",
       "29998    1178.0    1926.0   52964.0    1804.0                           1  \n",
       "29999    1430.0    1000.0    1000.0    1000.0                           1  \n",
       "\n",
       "[30000 rows x 25 columns]"
      ]
     },
     "execution_count": 2,
     "metadata": {},
     "output_type": "execute_result"
    }
   ],
   "source": [
    "df"
   ]
  },
  {
   "cell_type": "markdown",
   "id": "89d75106",
   "metadata": {},
   "source": [
    "# Data Preprocessing and Exploring "
   ]
  },
  {
   "cell_type": "code",
   "execution_count": 3,
   "id": "6b7dc353",
   "metadata": {},
   "outputs": [],
   "source": [
    "df['SEX'] = df['SEX'].map({1:'Male', 2:'Female'})\n",
    "\n",
    "# Combine 0,5 and 6 into 4(that is others)\n",
    "\n",
    "df['EDUCATION'] = df['EDUCATION'].replace({0:4, 5:4, 6:4})\n",
    "\n",
    "# Combine 0 and 3 into 2(that is single)\n",
    "\n",
    "df['MARRIAGE'] = df['MARRIAGE'].replace({0:2, 3:2})"
   ]
  },
  {
   "cell_type": "code",
   "execution_count": 4,
   "id": "c5a0101a",
   "metadata": {},
   "outputs": [
    {
     "data": {
      "text/plain": [
       "<AxesSubplot:xlabel='Status', ylabel='COUNT'>"
      ]
     },
     "execution_count": 4,
     "metadata": {},
     "output_type": "execute_result"
    },
    {
     "data": {
      "image/png": "[encoded data removed]",
      "text/plain": [
       "<Figure size 432x288 with 1 Axes>"
      ]
     },
     "metadata": {
      "needs_background": "light"
     },
     "output_type": "display_data"
    }
   ],
   "source": [
    "import seaborn as sns\n",
    "\n",
    "mag_counts = df['MARRIAGE'].value_counts().reset_index()\n",
    "mag_counts.columns = ['Status', 'COUNT']\n",
    "\n",
    "sns.barplot(data=mag_counts, x='Status', y='COUNT')"
   ]
  },
  {
   "cell_type": "code",
   "execution_count": 5,
   "id": "dbf426e5",
   "metadata": {},
   "outputs": [
    {
     "data": {
      "text/plain": [
       "<AxesSubplot:xlabel='SEX', ylabel='COUNT'>"
      ]
     },
     "execution_count": 5,
     "metadata": {},
     "output_type": "execute_result"
    },
    {
     "data": {
      "image/png": "[encoded data removed]",
      "text/plain": [
       "<Figure size 432x288 with 1 Axes>"
      ]
     },
     "metadata": {
      "needs_background": "light"
     },
     "output_type": "display_data"
    }
   ],
   "source": [
    "import seaborn as sns\n",
    "\n",
    "sex_counts = df['SEX'].value_counts().reset_index()\n",
    "sex_counts.columns = ['SEX', 'COUNT']\n",
    "\n",
    "sns.barplot(data=sex_counts, x='SEX', y='COUNT')"
   ]
  },
  {
   "cell_type": "code",
   "execution_count": 6,
   "id": "1c7e08e6",
   "metadata": {},
   "outputs": [],
   "source": [
    "df = pd.get_dummies(data= df, columns=['SEX'], drop_first=True)"
   ]
  },
  {
   "cell_type": "code",
   "execution_count": 7,
   "id": "7ab38a4c",
   "metadata": {},
   "outputs": [],
   "source": [
    "df.rename(columns={'SEX_Male': 'Gender','PAY_0':'PAY_1'}, inplace=True)"
   ]
  },
  {
   "cell_type": "code",
   "execution_count": 8,
   "id": "3278b93f",
   "metadata": {},
   "outputs": [
    {
     "data": {
      "image/png": "[encoded data removed]",
      "text/plain": [
       "<Figure size 432x288 with 1 Axes>"
      ]
     },
     "metadata": {
      "needs_background": "light"
     },
     "output_type": "display_data"
    }
   ],
   "source": [
    "import matplotlib.pyplot as plt \n",
    "import matplotlib.ticker as ticker\n",
    "sns.histplot(data=df, x='LIMIT_BAL')\n",
    "\n",
    "\n",
    "plt.gca().xaxis.set_major_formatter(ticker.StrMethodFormatter('{x:,.0f}'))  \n",
    "plt.xticks(rotation=45)  \n",
    "plt.tight_layout()       \n",
    "plt.show()\n"
   ]
  },
  {
   "cell_type": "code",
   "execution_count": 9,
   "id": "ad7264a6",
   "metadata": {},
   "outputs": [],
   "source": [
    "X = df.drop(columns=['default.payment.next.month', 'ID'])\n",
    "y = df[['default.payment.next.month']]"
   ]
  },
  {
   "cell_type": "code",
   "execution_count": 10,
   "id": "ddd2507e",
   "metadata": {},
   "outputs": [
    {
     "data": {
      "text/plain": [
       "((30000, 23), (30000, 1))"
      ]
     },
     "execution_count": 10,
     "metadata": {},
     "output_type": "execute_result"
    }
   ],
   "source": [
    "X.shape, y.shape"
   ]
  },
  {
   "cell_type": "markdown",
   "id": "a89a36a6-e2d8-4897-8fb1-bc00d79b2a52",
   "metadata": {},
   "source": [
    "# XGBoost Model"
   ]
  },
  {
   "cell_type": "code",
   "execution_count": 14,
   "id": "d0c991e5",
   "metadata": {},
   "outputs": [
    {
     "name": "stderr",
     "output_type": "stream",
     "text": [
      "/home/khatri.say/.local/lib/python3.8/site-packages/xgboost/core.py:265: FutureWarning: Your system has an old version of glibc (< 2.28). We will stop supporting Linux distros with glibc older than 2.28 after **May 31, 2025**. Please upgrade to a recent Linux distro (with glibc 2.28+) to use future versions of XGBoost.\n",
      "Note: You have installed the 'manylinux2014' variant of XGBoost. Certain features such as GPU algorithms or federated learning are not available. To use these features, please upgrade to a recent Linux distro with glibc 2.28+, and install the 'manylinux_2_28' variant.\n",
      "  warnings.warn(\n"
     ]
    }
   ],
   "source": [
    "from sklearn.model_selection import RandomizedSearchCV\n",
    "from xgboost import XGBClassifier"
   ]
  },
  {
   "cell_type": "code",
   "execution_count": 19,
   "id": "ecbc27a8",
   "metadata": {},
   "outputs": [],
   "source": [
    "param_grid = {\n",
    "    'learning_rate': [0.01, 0.05, 0.1, 0.2],\n",
    "    'n_estimators': [100, 300],\n",
    "    'max_depth': [3, 5, 7, 9],\n",
    "    'min_child_weight': [1, 3, 5, 7],\n",
    "    'gamma': [0, 0.1, 0.3, 0.5],\n",
    "    'colsample_bytree': [0.6, 0.7, 0.8, 1.0]\n",
    "}"
   ]
  },
  {
   "cell_type": "code",
   "execution_count": 20,
   "id": "9a6c5bd2",
   "metadata": {},
   "outputs": [],
   "source": [
    "xgb_model = XGBClassifier()"
   ]
  },
  {
   "cell_type": "code",
   "execution_count": 21,
   "id": "6209a2b2",
   "metadata": {},
   "outputs": [],
   "source": [
    "random_search = RandomizedSearchCV(estimator=xgb_model, param_distributions=param_grid, n_iter=10, scoring='roc_auc',\n",
    "                                  n_jobs=-1, cv=5)"
   ]
  },
  {
   "cell_type": "code",
   "execution_count": 22,
   "id": "e7e1fe31",
   "metadata": {},
   "outputs": [
    {
     "data": {
      "text/html": [
       "<style>#sk-container-id-1 {color: black;}#sk-container-id-1 pre{padding: 0;}#sk-container-id-1 div.sk-toggleable {background-color: white;}#sk-container-id-1 label.sk-toggleable__label {cursor: pointer;display: block;width: 100%;margin-bottom: 0;padding: 0.3em;box-sizing: border-box;text-align: center;}#sk-container-id-1 label.sk-toggleable__label-arrow:before {content: \"▸\";float: left;margin-right: 0.25em;color: #696969;}#sk-container-id-1 label.sk-toggleable__label-arrow:hover:before {color: black;}#sk-container-id-1 div.sk-estimator:hover label.sk-toggleable__label-arrow:before {color: black;}#sk-container-id-1 div.sk-toggleable__content {max-height: 0;max-width: 0;overflow: hidden;text-align: left;background-color: #f0f8ff;}#sk-container-id-1 div.sk-toggleable__content pre {margin: 0.2em;color: black;border-radius: 0.25em;background-color: #f0f8ff;}#sk-container-id-1 input.sk-toggleable__control:checked~div.sk-toggleable__content {max-height: 200px;max-width: 100%;overflow: auto;}#sk-container-id-1 input.sk-toggleable__control:checked~label.sk-toggleable__label-arrow:before {content: \"▾\";}#sk-container-id-1 div.sk-estimator input.sk-toggleable__control:checked~label.sk-toggleable__label {background-color: #d4ebff;}#sk-container-id-1 div.sk-label input.sk-toggleable__control:checked~label.sk-toggleable__label {background-color: #d4ebff;}#sk-container-id-1 input.sk-hidden--visually {border: 0;clip: rect(1px 1px 1px 1px);clip: rect(1px, 1px, 1px, 1px);height: 1px;margin: -1px;overflow: hidden;padding: 0;position: absolute;width: 1px;}#sk-container-id-1 div.sk-estimator {font-family: monospace;background-color: #f0f8ff;border: 1px dotted black;border-radius: 0.25em;box-sizing: border-box;margin-bottom: 0.5em;}#sk-container-id-1 div.sk-estimator:hover {background-color: #d4ebff;}#sk-container-id-1 div.sk-parallel-item::after {content: \"\";width: 100%;border-bottom: 1px solid gray;flex-grow: 1;}#sk-container-id-1 div.sk-label:hover label.sk-toggleable__label {background-color: #d4ebff;}#sk-container-id-1 div.sk-serial::before {content: \"\";position: absolute;border-left: 1px solid gray;box-sizing: border-box;top: 0;bottom: 0;left: 50%;z-index: 0;}#sk-container-id-1 div.sk-serial {display: flex;flex-direction: column;align-items: center;background-color: white;padding-right: 0.2em;padding-left: 0.2em;position: relative;}#sk-container-id-1 div.sk-item {position: relative;z-index: 1;}#sk-container-id-1 div.sk-parallel {display: flex;align-items: stretch;justify-content: center;background-color: white;position: relative;}#sk-container-id-1 div.sk-item::before, #sk-container-id-1 div.sk-parallel-item::before {content: \"\";position: absolute;border-left: 1px solid gray;box-sizing: border-box;top: 0;bottom: 0;left: 50%;z-index: -1;}#sk-container-id-1 div.sk-parallel-item {display: flex;flex-direction: column;z-index: 1;position: relative;background-color: white;}#sk-container-id-1 div.sk-parallel-item:first-child::after {align-self: flex-end;width: 50%;}#sk-container-id-1 div.sk-parallel-item:last-child::after {align-self: flex-start;width: 50%;}#sk-container-id-1 div.sk-parallel-item:only-child::after {width: 0;}#sk-container-id-1 div.sk-dashed-wrapped {border: 1px dashed gray;margin: 0 0.4em 0.5em 0.4em;box-sizing: border-box;padding-bottom: 0.4em;background-color: white;}#sk-container-id-1 div.sk-label label {font-family: monospace;font-weight: bold;display: inline-block;line-height: 1.2em;}#sk-container-id-1 div.sk-label-container {text-align: center;}#sk-container-id-1 div.sk-container {/* jupyter's `normalize.less` sets `[hidden] { display: none; }` but bootstrap.min.css set `[hidden] { display: none !important; }` so we also need the `!important` here to be able to override the default hidden behavior on the sphinx rendered scikit-learn.org. See: https://github.com/scikit-learn/scikit-learn/issues/21755 */display: inline-block !important;position: relative;}#sk-container-id-1 div.sk-text-repr-fallback {display: none;}</style><div id=\"sk-container-id-1\" class=\"sk-top-container\"><div class=\"sk-text-repr-fallback\"><pre>RandomizedSearchCV(cv=5,\n",
       "                   estimator=XGBClassifier(base_score=None, booster=None,\n",
       "                                           callbacks=None,\n",
       "                                           colsample_bylevel=None,\n",
       "                                           colsample_bynode=None,\n",
       "                                           colsample_bytree=None, device=None,\n",
       "                                           early_stopping_rounds=None,\n",
       "                                           enable_categorical=False,\n",
       "                                           eval_metric=None, feature_types=None,\n",
       "                                           gamma=None, grow_policy=None,\n",
       "                                           importance_type=None,\n",
       "                                           interaction_constraints=None,\n",
       "                                           learning_rate...\n",
       "                                           min_child_weight=None, missing=nan,\n",
       "                                           monotone_constraints=None,\n",
       "                                           multi_strategy=None,\n",
       "                                           n_estimators=None, n_jobs=None,\n",
       "                                           num_parallel_tree=None,\n",
       "                                           random_state=None, ...),\n",
       "                   n_jobs=-1,\n",
       "                   param_distributions={&#x27;colsample_bytree&#x27;: [0.6, 0.7, 0.8,\n",
       "                                                             1.0],\n",
       "                                        &#x27;gamma&#x27;: [0, 0.1, 0.3, 0.5],\n",
       "                                        &#x27;learning_rate&#x27;: [0.01, 0.05, 0.1, 0.2],\n",
       "                                        &#x27;max_depth&#x27;: [3, 5, 7, 9],\n",
       "                                        &#x27;min_child_weight&#x27;: [1, 3, 5, 7],\n",
       "                                        &#x27;n_estimators&#x27;: [100, 300]},\n",
       "                   scoring=&#x27;roc_auc&#x27;)</pre><b>In a Jupyter environment, please rerun this cell to show the HTML representation or trust the notebook. <br />On GitHub, the HTML representation is unable to render, please try loading this page with nbviewer.org.</b></div><div class=\"sk-container\" hidden><div class=\"sk-item sk-dashed-wrapped\"><div class=\"sk-label-container\"><div class=\"sk-label sk-toggleable\"><input class=\"sk-toggleable__control sk-hidden--visually\" id=\"sk-estimator-id-1\" type=\"checkbox\" ><label for=\"sk-estimator-id-1\" class=\"sk-toggleable__label sk-toggleable__label-arrow\">RandomizedSearchCV</label><div class=\"sk-toggleable__content\"><pre>RandomizedSearchCV(cv=5,\n",
       "                   estimator=XGBClassifier(base_score=None, booster=None,\n",
       "                                           callbacks=None,\n",
       "                                           colsample_bylevel=None,\n",
       "                                           colsample_bynode=None,\n",
       "                                           colsample_bytree=None, device=None,\n",
       "                                           early_stopping_rounds=None,\n",
       "                                           enable_categorical=False,\n",
       "                                           eval_metric=None, feature_types=None,\n",
       "                                           gamma=None, grow_policy=None,\n",
       "                                           importance_type=None,\n",
       "                                           interaction_constraints=None,\n",
       "                                           learning_rate...\n",
       "                                           min_child_weight=None, missing=nan,\n",
       "                                           monotone_constraints=None,\n",
       "                                           multi_strategy=None,\n",
       "                                           n_estimators=None, n_jobs=None,\n",
       "                                           num_parallel_tree=None,\n",
       "                                           random_state=None, ...),\n",
       "                   n_jobs=-1,\n",
       "                   param_distributions={&#x27;colsample_bytree&#x27;: [0.6, 0.7, 0.8,\n",
       "                                                             1.0],\n",
       "                                        &#x27;gamma&#x27;: [0, 0.1, 0.3, 0.5],\n",
       "                                        &#x27;learning_rate&#x27;: [0.01, 0.05, 0.1, 0.2],\n",
       "                                        &#x27;max_depth&#x27;: [3, 5, 7, 9],\n",
       "                                        &#x27;min_child_weight&#x27;: [1, 3, 5, 7],\n",
       "                                        &#x27;n_estimators&#x27;: [100, 300]},\n",
       "                   scoring=&#x27;roc_auc&#x27;)</pre></div></div></div><div class=\"sk-parallel\"><div class=\"sk-parallel-item\"><div class=\"sk-item\"><div class=\"sk-label-container\"><div class=\"sk-label sk-toggleable\"><input class=\"sk-toggleable__control sk-hidden--visually\" id=\"sk-estimator-id-2\" type=\"checkbox\" ><label for=\"sk-estimator-id-2\" class=\"sk-toggleable__label sk-toggleable__label-arrow\">estimator: XGBClassifier</label><div class=\"sk-toggleable__content\"><pre>XGBClassifier(base_score=None, booster=None, callbacks=None,\n",
       "              colsample_bylevel=None, colsample_bynode=None,\n",
       "              colsample_bytree=None, device=None, early_stopping_rounds=None,\n",
       "              enable_categorical=False, eval_metric=None, feature_types=None,\n",
       "              gamma=None, grow_policy=None, importance_type=None,\n",
       "              interaction_constraints=None, learning_rate=None, max_bin=None,\n",
       "              max_cat_threshold=None, max_cat_to_onehot=None,\n",
       "              max_delta_step=None, max_depth=None, max_leaves=None,\n",
       "              min_child_weight=None, missing=nan, monotone_constraints=None,\n",
       "              multi_strategy=None, n_estimators=None, n_jobs=None,\n",
       "              num_parallel_tree=None, random_state=None, ...)</pre></div></div></div><div class=\"sk-serial\"><div class=\"sk-item\"><div class=\"sk-estimator sk-toggleable\"><input class=\"sk-toggleable__control sk-hidden--visually\" id=\"sk-estimator-id-3\" type=\"checkbox\" ><label for=\"sk-estimator-id-3\" class=\"sk-toggleable__label sk-toggleable__label-arrow\">XGBClassifier</label><div class=\"sk-toggleable__content\"><pre>XGBClassifier(base_score=None, booster=None, callbacks=None,\n",
       "              colsample_bylevel=None, colsample_bynode=None,\n",
       "              colsample_bytree=None, device=None, early_stopping_rounds=None,\n",
       "              enable_categorical=False, eval_metric=None, feature_types=None,\n",
       "              gamma=None, grow_policy=None, importance_type=None,\n",
       "              interaction_constraints=None, learning_rate=None, max_bin=None,\n",
       "              max_cat_threshold=None, max_cat_to_onehot=None,\n",
       "              max_delta_step=None, max_depth=None, max_leaves=None,\n",
       "              min_child_weight=None, missing=nan, monotone_constraints=None,\n",
       "              multi_strategy=None, n_estimators=None, n_jobs=None,\n",
       "              num_parallel_tree=None, random_state=None, ...)</pre></div></div></div></div></div></div></div></div></div></div>"
      ],
      "text/plain": [
       "RandomizedSearchCV(cv=5,\n",
       "                   estimator=XGBClassifier(base_score=None, booster=None,\n",
       "                                           callbacks=None,\n",
       "                                           colsample_bylevel=None,\n",
       "                                           colsample_bynode=None,\n",
       "                                           colsample_bytree=None, device=None,\n",
       "                                           early_stopping_rounds=None,\n",
       "                                           enable_categorical=False,\n",
       "                                           eval_metric=None, feature_types=None,\n",
       "                                           gamma=None, grow_policy=None,\n",
       "                                           importance_type=None,\n",
       "                                           interaction_constraints=None,\n",
       "                                           learning_rate...\n",
       "                                           min_child_weight=None, missing=nan,\n",
       "                                           monotone_constraints=None,\n",
       "                                           multi_strategy=None,\n",
       "                                           n_estimators=None, n_jobs=None,\n",
       "                                           num_parallel_tree=None,\n",
       "                                           random_state=None, ...),\n",
       "                   n_jobs=-1,\n",
       "                   param_distributions={'colsample_bytree': [0.6, 0.7, 0.8,\n",
       "                                                             1.0],\n",
       "                                        'gamma': [0, 0.1, 0.3, 0.5],\n",
       "                                        'learning_rate': [0.01, 0.05, 0.1, 0.2],\n",
       "                                        'max_depth': [3, 5, 7, 9],\n",
       "                                        'min_child_weight': [1, 3, 5, 7],\n",
       "                                        'n_estimators': [100, 300]},\n",
       "                   scoring='roc_auc')"
      ]
     },
     "execution_count": 22,
     "metadata": {},
     "output_type": "execute_result"
    }
   ],
   "source": [
    "random_search.fit(X,y)"
   ]
  },
  {
   "cell_type": "code",
   "execution_count": 27,
   "id": "22a37f4c-e413-4382-8243-3d0acabb18b2",
   "metadata": {},
   "outputs": [
    {
     "name": "stdout",
     "output_type": "stream",
     "text": [
      "XGBClassifier(base_score=None, booster=None, callbacks=None,\n",
      "              colsample_bylevel=None, colsample_bynode=None,\n",
      "              colsample_bytree=0.8, device=None, early_stopping_rounds=None,\n",
      "              enable_categorical=False, eval_metric=None, feature_types=None,\n",
      "              gamma=0.1, grow_policy=None, importance_type=None,\n",
      "              interaction_constraints=None, learning_rate=0.01, max_bin=None,\n",
      "              max_cat_threshold=None, max_cat_to_onehot=None,\n",
      "              max_delta_step=None, max_depth=7, max_leaves=None,\n",
      "              min_child_weight=1, missing=nan, monotone_constraints=None,\n",
      "              multi_strategy=None, n_estimators=300, n_jobs=None,\n",
      "              num_parallel_tree=None, random_state=None, ...)\n"
     ]
    }
   ],
   "source": [
    "print(random_search.best_estimator_)"
   ]
  },
  {
   "cell_type": "code",
   "execution_count": 29,
   "id": "fd9c81a8-77aa-414f-ac20-d79e75ad8b1b",
   "metadata": {},
   "outputs": [],
   "source": [
    "xgb_model = XGBClassifier(base_score=None, booster=None, callbacks=None,\n",
    "              colsample_bylevel=None, colsample_bynode=None,\n",
    "              colsample_bytree=0.8, device=None, early_stopping_rounds=None,\n",
    "              enable_categorical=False, eval_metric=None, feature_types=None,\n",
    "              gamma=0.1, grow_policy=None, importance_type=None,\n",
    "              interaction_constraints=None, learning_rate=0.01, max_bin=None,\n",
    "              max_cat_threshold=None, max_cat_to_onehot=None,\n",
    "              max_delta_step=None, max_depth=7, max_leaves=None,\n",
    "              min_child_weight=1, monotone_constraints=None,\n",
    "              multi_strategy=None, n_estimators=300, n_jobs=None,\n",
    "              num_parallel_tree=None)"
   ]
  },
  {
   "cell_type": "code",
   "execution_count": 30,
   "id": "c1b7a266",
   "metadata": {},
   "outputs": [],
   "source": [
    "from sklearn.model_selection import cross_val_score\n",
    "score = cross_val_score(xgb_model, X,y, cv = 10)"
   ]
  },
  {
   "cell_type": "code",
   "execution_count": 32,
   "id": "dea9901f-efa7-40ff-8551-d314b623ac0a",
   "metadata": {},
   "outputs": [
    {
     "data": {
      "text/plain": [
       "0.8207000000000001"
      ]
     },
     "execution_count": 32,
     "metadata": {},
     "output_type": "execute_result"
    }
   ],
   "source": [
    "score.mean()"
   ]
  },
  {
   "cell_type": "code",
   "execution_count": null,
   "id": "80dd0471-13fb-4b8b-86ce-a00913cdc9e2",
   "metadata": {},
   "outputs": [],
   "source": []
  },
  {
   "cell_type": "code",
   "execution_count": 35,
   "id": "8bcca9b7-e838-4318-8c7e-ed8437202c33",
   "metadata": {},
   "outputs": [],
   "source": [
    "df = pd.get_dummies(data=df, columns=['EDUCATION', 'MARRIAGE'], drop_first=True)"
   ]
  },
  {
   "cell_type": "code",
   "execution_count": 42,
   "id": "027679d9-b9db-4a81-87d3-88aeb0229541",
   "metadata": {},
   "outputs": [
    {
     "data": {
      "text/plain": [
       "Index(['ID', 'LIMIT_BAL', 'AGE', 'PAY_1', 'PAY_2', 'PAY_3', 'PAY_4', 'PAY_5',\n",
       "       'PAY_6', 'BILL_AMT1', 'BILL_AMT2', 'BILL_AMT3', 'BILL_AMT4',\n",
       "       'BILL_AMT5', 'BILL_AMT6', 'PAY_AMT1', 'PAY_AMT2', 'PAY_AMT3',\n",
       "       'PAY_AMT4', 'PAY_AMT5', 'PAY_AMT6', 'default.payment.next.month',\n",
       "       'Gender', 'EDUCATION_2', 'EDUCATION_3', 'EDUCATION_4', 'MARRIAGE_2'],\n",
       "      dtype='object')"
      ]
     },
     "execution_count": 42,
     "metadata": {},
     "output_type": "execute_result"
    }
   ],
   "source": [
    "df.columns"
   ]
  },
  {
   "cell_type": "code",
   "execution_count": 45,
   "id": "c343ec64-6e65-4cb2-9f7f-e1e0115a5d5b",
   "metadata": {},
   "outputs": [],
   "source": [
    "df = df.rename(columns={'EDUCATION_2':'Max_Education_University',\n",
    "           'EDUCATION_3' : 'Max_Education_High_school',\n",
    "           'EDUCATION_4' : 'Max_Education_Unknown',\n",
    "           'MARRIAGE_2' : 'Marital_Status'\n",
    "          })"
   ]
  },
  {
   "cell_type": "code",
   "execution_count": null,
   "id": "b7a9b65c-dad3-4ff7-bff4-d37ab39e8005",
   "metadata": {},
   "outputs": [],
   "source": []
  },
  {
   "cell_type": "code",
   "execution_count": 48,
   "id": "05a1cc09-28c2-44de-91c5-f78501990a13",
   "metadata": {},
   "outputs": [],
   "source": [
    "from sklearn.preprocessing import StandardScaler\n",
    "from sklearn.model_selection import train_test_split, cross_val_score\n",
    "\n",
    "X_train, X_test, y_train, y_test = train_test_split(X, y, test_size=0.8)\n",
    "\n",
    "scaler = StandardScaler()\n",
    "X_train_scaled = scaler.fit_transform(X_train)\n",
    "X_test_scaled = scaler.fit_transform(X_test)"
   ]
  },
  {
   "cell_type": "code",
   "execution_count": 52,
   "id": "904bc94d-36bf-4086-b3da-2adce78c9111",
   "metadata": {},
   "outputs": [
    {
     "data": {
      "text/plain": [
       "23"
      ]
     },
     "execution_count": 52,
     "metadata": {},
     "output_type": "execute_result"
    }
   ],
   "source": [
    "X_train_scaled.shape[1]"
   ]
  },
  {
   "cell_type": "markdown",
   "id": "8678c4b5-49c5-48fd-b878-b557ed9346b6",
   "metadata": {},
   "source": [
    "# Neural Networks "
   ]
  },
  {
   "cell_type": "code",
   "execution_count": 118,
   "id": "c7adf8f8-3957-4de9-a4d6-b0eeda670d80",
   "metadata": {},
   "outputs": [],
   "source": [
    "import tensorflow as tf\n",
    "from tensorflow.keras.models import Sequential\n",
    "from tensorflow.keras.layers import Dense, Dropout\n",
    "\n",
    "input_dim = X_train_scaled.shape[1]\n",
    "\n",
    "model = Sequential(\n",
    "    [\n",
    "        Dense(16, activation='relu',input_dim = input_dim),\n",
    "        Dropout(0.2),\n",
    "        Dense(8, activation='relu'),\n",
    "        Dropout(0.2),\n",
    "        Dense(1, activation='sigmoid')\n",
    "    ]\n",
    "\n",
    ")"
   ]
  },
  {
   "cell_type": "code",
   "execution_count": 119,
   "id": "70484744-c936-45ad-9fd3-54c9176ea599",
   "metadata": {},
   "outputs": [],
   "source": [
    "from tensorflow.keras.optimizers import Adam\n",
    "\n",
    "adam = Adam(learning_rate=0.0001)"
   ]
  },
  {
   "cell_type": "code",
   "execution_count": 120,
   "id": "66fb23b1-14d0-47dc-8d44-257a0133dc84",
   "metadata": {},
   "outputs": [],
   "source": [
    "model.compile(optimizer=adam, loss='binary_crossentropy',\n",
    "             metrics=['accuracy', tf.keras.metrics.AUC(name='auc')])"
   ]
  },
  {
   "cell_type": "code",
   "execution_count": 121,
   "id": "d8dd9e53-eb1c-4a99-9303-a3e5f1e6bf41",
   "metadata": {},
   "outputs": [
    {
     "name": "stdout",
     "output_type": "stream",
     "text": [
      "Epoch 1/70\n",
      "600/600 [==============================] - 1s 1ms/step - loss: 0.6840 - accuracy: 0.5635 - auc: 0.5425 - val_loss: 0.6241 - val_accuracy: 0.7433 - val_auc: 0.5696\n",
      "Epoch 2/70\n",
      "600/600 [==============================] - 1s 923us/step - loss: 0.6084 - accuracy: 0.7210 - auc: 0.5508 - val_loss: 0.5798 - val_accuracy: 0.7733 - val_auc: 0.5789\n",
      "Epoch 3/70\n",
      "600/600 [==============================] - 1s 893us/step - loss: 0.5780 - accuracy: 0.7621 - auc: 0.5660 - val_loss: 0.5563 - val_accuracy: 0.7775 - val_auc: 0.5970\n",
      "Epoch 4/70\n",
      "600/600 [==============================] - 1s 865us/step - loss: 0.5588 - accuracy: 0.7804 - auc: 0.5803 - val_loss: 0.5415 - val_accuracy: 0.7800 - val_auc: 0.6136\n",
      "Epoch 5/70\n",
      "600/600 [==============================] - 1s 893us/step - loss: 0.5505 - accuracy: 0.7802 - auc: 0.5906 - val_loss: 0.5304 - val_accuracy: 0.7817 - val_auc: 0.6293\n",
      "Epoch 6/70\n",
      "600/600 [==============================] - 1s 891us/step - loss: 0.5368 - accuracy: 0.7925 - auc: 0.6016 - val_loss: 0.5228 - val_accuracy: 0.7883 - val_auc: 0.6389\n",
      "Epoch 7/70\n",
      "600/600 [==============================] - 0s 827us/step - loss: 0.5307 - accuracy: 0.7931 - auc: 0.6152 - val_loss: 0.5172 - val_accuracy: 0.7875 - val_auc: 0.6448\n",
      "Epoch 8/70\n",
      "600/600 [==============================] - 1s 837us/step - loss: 0.5238 - accuracy: 0.7946 - auc: 0.6211 - val_loss: 0.5119 - val_accuracy: 0.7917 - val_auc: 0.6522\n",
      "Epoch 9/70\n",
      "600/600 [==============================] - 0s 831us/step - loss: 0.5187 - accuracy: 0.7985 - auc: 0.6371 - val_loss: 0.5075 - val_accuracy: 0.7950 - val_auc: 0.6592\n",
      "Epoch 10/70\n",
      "600/600 [==============================] - 0s 832us/step - loss: 0.5087 - accuracy: 0.7983 - auc: 0.6540 - val_loss: 0.5038 - val_accuracy: 0.7942 - val_auc: 0.6634\n",
      "Epoch 11/70\n",
      "600/600 [==============================] - 1s 836us/step - loss: 0.5063 - accuracy: 0.7975 - auc: 0.6547 - val_loss: 0.5002 - val_accuracy: 0.8008 - val_auc: 0.6691\n",
      "Epoch 12/70\n",
      "600/600 [==============================] - 0s 817us/step - loss: 0.5133 - accuracy: 0.7967 - auc: 0.6368 - val_loss: 0.4984 - val_accuracy: 0.8000 - val_auc: 0.6720\n",
      "Epoch 13/70\n",
      "600/600 [==============================] - 1s 871us/step - loss: 0.5004 - accuracy: 0.8006 - auc: 0.6580 - val_loss: 0.4960 - val_accuracy: 0.8025 - val_auc: 0.6762\n",
      "Epoch 14/70\n",
      "600/600 [==============================] - 0s 824us/step - loss: 0.5005 - accuracy: 0.7996 - auc: 0.6580 - val_loss: 0.4936 - val_accuracy: 0.8008 - val_auc: 0.6818\n",
      "Epoch 15/70\n",
      "600/600 [==============================] - 1s 837us/step - loss: 0.5007 - accuracy: 0.8042 - auc: 0.6615 - val_loss: 0.4915 - val_accuracy: 0.8008 - val_auc: 0.6854\n",
      "Epoch 16/70\n",
      "600/600 [==============================] - 1s 859us/step - loss: 0.4952 - accuracy: 0.7996 - auc: 0.6685 - val_loss: 0.4897 - val_accuracy: 0.8025 - val_auc: 0.6887\n",
      "Epoch 17/70\n",
      "600/600 [==============================] - 1s 891us/step - loss: 0.4928 - accuracy: 0.8060 - auc: 0.6672 - val_loss: 0.4878 - val_accuracy: 0.8033 - val_auc: 0.6917\n",
      "Epoch 18/70\n",
      "600/600 [==============================] - 1s 879us/step - loss: 0.4869 - accuracy: 0.8058 - auc: 0.6791 - val_loss: 0.4866 - val_accuracy: 0.8033 - val_auc: 0.6949\n",
      "Epoch 19/70\n",
      "600/600 [==============================] - 1s 892us/step - loss: 0.4915 - accuracy: 0.8058 - auc: 0.6710 - val_loss: 0.4852 - val_accuracy: 0.8042 - val_auc: 0.6978\n",
      "Epoch 20/70\n",
      "600/600 [==============================] - 1s 863us/step - loss: 0.4855 - accuracy: 0.8033 - auc: 0.6837 - val_loss: 0.4840 - val_accuracy: 0.8033 - val_auc: 0.7002\n",
      "Epoch 21/70\n",
      "600/600 [==============================] - 1s 879us/step - loss: 0.4829 - accuracy: 0.8058 - auc: 0.6866 - val_loss: 0.4830 - val_accuracy: 0.8042 - val_auc: 0.7024\n",
      "Epoch 22/70\n",
      "600/600 [==============================] - 1s 864us/step - loss: 0.4795 - accuracy: 0.8044 - auc: 0.6932 - val_loss: 0.4817 - val_accuracy: 0.8050 - val_auc: 0.7053\n",
      "Epoch 23/70\n",
      "600/600 [==============================] - 1s 865us/step - loss: 0.4833 - accuracy: 0.8023 - auc: 0.6852 - val_loss: 0.4805 - val_accuracy: 0.8042 - val_auc: 0.7073\n",
      "Epoch 24/70\n",
      "600/600 [==============================] - 1s 885us/step - loss: 0.4843 - accuracy: 0.8010 - auc: 0.6917 - val_loss: 0.4798 - val_accuracy: 0.8042 - val_auc: 0.7101\n",
      "Epoch 25/70\n",
      "600/600 [==============================] - 1s 917us/step - loss: 0.4814 - accuracy: 0.8042 - auc: 0.6868 - val_loss: 0.4787 - val_accuracy: 0.8033 - val_auc: 0.7105\n",
      "Epoch 26/70\n",
      "600/600 [==============================] - 1s 890us/step - loss: 0.4711 - accuracy: 0.8054 - auc: 0.7089 - val_loss: 0.4781 - val_accuracy: 0.8033 - val_auc: 0.7128\n",
      "Epoch 27/70\n",
      "600/600 [==============================] - 1s 893us/step - loss: 0.4760 - accuracy: 0.8031 - auc: 0.6965 - val_loss: 0.4774 - val_accuracy: 0.8042 - val_auc: 0.7140\n",
      "Epoch 28/70\n",
      "600/600 [==============================] - 1s 891us/step - loss: 0.4743 - accuracy: 0.8027 - auc: 0.7030 - val_loss: 0.4770 - val_accuracy: 0.8033 - val_auc: 0.7157\n",
      "Epoch 29/70\n",
      "600/600 [==============================] - 1s 890us/step - loss: 0.4736 - accuracy: 0.8015 - auc: 0.7038 - val_loss: 0.4763 - val_accuracy: 0.8042 - val_auc: 0.7176\n",
      "Epoch 30/70\n",
      "600/600 [==============================] - 1s 884us/step - loss: 0.4715 - accuracy: 0.8025 - auc: 0.7090 - val_loss: 0.4755 - val_accuracy: 0.8050 - val_auc: 0.7194\n",
      "Epoch 31/70\n",
      "600/600 [==============================] - 1s 902us/step - loss: 0.4664 - accuracy: 0.8110 - auc: 0.7100 - val_loss: 0.4743 - val_accuracy: 0.8058 - val_auc: 0.7210\n",
      "Epoch 32/70\n",
      "600/600 [==============================] - 1s 865us/step - loss: 0.4684 - accuracy: 0.8037 - auc: 0.7144 - val_loss: 0.4738 - val_accuracy: 0.8058 - val_auc: 0.7218\n",
      "Epoch 33/70\n",
      "600/600 [==============================] - 1s 873us/step - loss: 0.4712 - accuracy: 0.8025 - auc: 0.7046 - val_loss: 0.4739 - val_accuracy: 0.8042 - val_auc: 0.7235\n",
      "Epoch 34/70\n",
      "600/600 [==============================] - 1s 867us/step - loss: 0.4649 - accuracy: 0.8077 - auc: 0.7180 - val_loss: 0.4729 - val_accuracy: 0.8067 - val_auc: 0.7242\n",
      "Epoch 35/70\n",
      "600/600 [==============================] - 1s 878us/step - loss: 0.4704 - accuracy: 0.8042 - auc: 0.7089 - val_loss: 0.4725 - val_accuracy: 0.8058 - val_auc: 0.7252\n",
      "Epoch 36/70\n",
      "600/600 [==============================] - 1s 912us/step - loss: 0.4689 - accuracy: 0.8092 - auc: 0.7091 - val_loss: 0.4724 - val_accuracy: 0.8058 - val_auc: 0.7260\n",
      "Epoch 37/70\n",
      "600/600 [==============================] - 1s 891us/step - loss: 0.4637 - accuracy: 0.8108 - auc: 0.7181 - val_loss: 0.4720 - val_accuracy: 0.8050 - val_auc: 0.7265\n",
      "Epoch 38/70\n",
      "600/600 [==============================] - 1s 901us/step - loss: 0.4672 - accuracy: 0.8042 - auc: 0.7106 - val_loss: 0.4716 - val_accuracy: 0.8050 - val_auc: 0.7288\n",
      "Epoch 39/70\n",
      "600/600 [==============================] - 1s 931us/step - loss: 0.4656 - accuracy: 0.8096 - auc: 0.7125 - val_loss: 0.4706 - val_accuracy: 0.8067 - val_auc: 0.7303\n",
      "Epoch 40/70\n",
      "600/600 [==============================] - 1s 920us/step - loss: 0.4638 - accuracy: 0.8062 - auc: 0.7172 - val_loss: 0.4706 - val_accuracy: 0.8067 - val_auc: 0.7305\n",
      "Epoch 41/70\n",
      "600/600 [==============================] - 1s 938us/step - loss: 0.4678 - accuracy: 0.8087 - auc: 0.7147 - val_loss: 0.4703 - val_accuracy: 0.8058 - val_auc: 0.7314\n",
      "Epoch 42/70\n",
      "600/600 [==============================] - 1s 919us/step - loss: 0.4632 - accuracy: 0.8071 - auc: 0.7164 - val_loss: 0.4700 - val_accuracy: 0.8067 - val_auc: 0.7331\n",
      "Epoch 43/70\n",
      "600/600 [==============================] - 1s 914us/step - loss: 0.4638 - accuracy: 0.8096 - auc: 0.7199 - val_loss: 0.4694 - val_accuracy: 0.8067 - val_auc: 0.7339\n",
      "Epoch 44/70\n",
      "600/600 [==============================] - 1s 904us/step - loss: 0.4579 - accuracy: 0.8119 - auc: 0.7257 - val_loss: 0.4687 - val_accuracy: 0.8058 - val_auc: 0.7350\n",
      "Epoch 45/70\n",
      "600/600 [==============================] - 1s 910us/step - loss: 0.4588 - accuracy: 0.8092 - auc: 0.7211 - val_loss: 0.4682 - val_accuracy: 0.8067 - val_auc: 0.7369\n",
      "Epoch 46/70\n",
      "600/600 [==============================] - 1s 867us/step - loss: 0.4597 - accuracy: 0.8098 - auc: 0.7245 - val_loss: 0.4681 - val_accuracy: 0.8067 - val_auc: 0.7371\n",
      "Epoch 47/70\n",
      "600/600 [==============================] - 0s 827us/step - loss: 0.4568 - accuracy: 0.8108 - auc: 0.7290 - val_loss: 0.4676 - val_accuracy: 0.8067 - val_auc: 0.7389\n",
      "Epoch 48/70\n",
      "600/600 [==============================] - 0s 818us/step - loss: 0.4631 - accuracy: 0.8092 - auc: 0.7172 - val_loss: 0.4679 - val_accuracy: 0.8050 - val_auc: 0.7394\n",
      "Epoch 49/70\n",
      "600/600 [==============================] - 0s 829us/step - loss: 0.4617 - accuracy: 0.8106 - auc: 0.7234 - val_loss: 0.4676 - val_accuracy: 0.8075 - val_auc: 0.7403\n",
      "Epoch 50/70\n",
      "600/600 [==============================] - 0s 813us/step - loss: 0.4629 - accuracy: 0.8100 - auc: 0.7190 - val_loss: 0.4668 - val_accuracy: 0.8075 - val_auc: 0.7419\n",
      "Epoch 51/70\n",
      "600/600 [==============================] - 0s 820us/step - loss: 0.4584 - accuracy: 0.8081 - auc: 0.7279 - val_loss: 0.4666 - val_accuracy: 0.8083 - val_auc: 0.7418\n",
      "Epoch 52/70\n",
      "600/600 [==============================] - 0s 831us/step - loss: 0.4577 - accuracy: 0.8087 - auc: 0.7332 - val_loss: 0.4665 - val_accuracy: 0.8083 - val_auc: 0.7416\n",
      "Epoch 53/70\n",
      "600/600 [==============================] - 1s 864us/step - loss: 0.4561 - accuracy: 0.8115 - auc: 0.7336 - val_loss: 0.4663 - val_accuracy: 0.8083 - val_auc: 0.7414\n",
      "Epoch 54/70\n",
      "600/600 [==============================] - 1s 872us/step - loss: 0.4574 - accuracy: 0.8092 - auc: 0.7350 - val_loss: 0.4661 - val_accuracy: 0.8075 - val_auc: 0.7417\n",
      "Epoch 55/70\n",
      "600/600 [==============================] - 1s 857us/step - loss: 0.4543 - accuracy: 0.8119 - auc: 0.7363 - val_loss: 0.4657 - val_accuracy: 0.8092 - val_auc: 0.7425\n",
      "Epoch 56/70\n",
      "600/600 [==============================] - 1s 897us/step - loss: 0.4604 - accuracy: 0.8062 - auc: 0.7285 - val_loss: 0.4658 - val_accuracy: 0.8083 - val_auc: 0.7426\n",
      "Epoch 57/70\n",
      "600/600 [==============================] - 1s 908us/step - loss: 0.4533 - accuracy: 0.8127 - auc: 0.7360 - val_loss: 0.4655 - val_accuracy: 0.8083 - val_auc: 0.7426\n",
      "Epoch 58/70\n",
      "600/600 [==============================] - 1s 879us/step - loss: 0.4538 - accuracy: 0.8094 - auc: 0.7388 - val_loss: 0.4651 - val_accuracy: 0.8083 - val_auc: 0.7436\n",
      "Epoch 59/70\n",
      "600/600 [==============================] - 1s 897us/step - loss: 0.4582 - accuracy: 0.8060 - auc: 0.7336 - val_loss: 0.4651 - val_accuracy: 0.8100 - val_auc: 0.7427\n",
      "Epoch 60/70\n",
      "600/600 [==============================] - 1s 925us/step - loss: 0.4564 - accuracy: 0.8112 - auc: 0.7324 - val_loss: 0.4648 - val_accuracy: 0.8092 - val_auc: 0.7435\n",
      "Epoch 61/70\n",
      "600/600 [==============================] - 1s 884us/step - loss: 0.4524 - accuracy: 0.8092 - auc: 0.7400 - val_loss: 0.4647 - val_accuracy: 0.8092 - val_auc: 0.7432\n",
      "Epoch 62/70\n",
      "600/600 [==============================] - 1s 902us/step - loss: 0.4512 - accuracy: 0.8133 - auc: 0.7403 - val_loss: 0.4646 - val_accuracy: 0.8075 - val_auc: 0.7445\n",
      "Epoch 63/70\n",
      "600/600 [==============================] - 1s 899us/step - loss: 0.4546 - accuracy: 0.8065 - auc: 0.7374 - val_loss: 0.4649 - val_accuracy: 0.8075 - val_auc: 0.7432\n",
      "Epoch 64/70\n",
      "600/600 [==============================] - 1s 883us/step - loss: 0.4538 - accuracy: 0.8085 - auc: 0.7359 - val_loss: 0.4648 - val_accuracy: 0.8092 - val_auc: 0.7441\n",
      "Epoch 65/70\n",
      "600/600 [==============================] - 1s 889us/step - loss: 0.4522 - accuracy: 0.8104 - auc: 0.7357 - val_loss: 0.4646 - val_accuracy: 0.8075 - val_auc: 0.7441\n"
     ]
    }
   ],
   "source": [
    "from tensorflow.keras.callbacks import EarlyStopping\n",
    "\n",
    "callback = EarlyStopping(\n",
    "    monitor='val_loss',\n",
    "    patience = 3\n",
    ")\n",
    "\n",
    "history = model.fit(\n",
    "    X_train_scaled, y_train,\n",
    "    validation_split = 0.2,\n",
    "    epochs = 70,\n",
    "    batch_size = 8,\n",
    "    verbose = 1,\n",
    "    callbacks = [callback]\n",
    "\n",
    ")"
   ]
  },
  {
   "cell_type": "code",
   "execution_count": 122,
   "id": "96605a06-ef8a-4e5f-a9aa-db2274345261",
   "metadata": {},
   "outputs": [
    {
     "data": {
      "image/png": "[encoded data removed]",
      "text/plain": [
       "<Figure size 432x288 with 1 Axes>"
      ]
     },
     "metadata": {
      "needs_background": "light"
     },
     "output_type": "display_data"
    },
    {
     "data": {
      "image/png": "[encoded data removed]",
      "text/plain": [
       "<Figure size 432x288 with 1 Axes>"
      ]
     },
     "metadata": {
      "needs_background": "light"
     },
     "output_type": "display_data"
    }
   ],
   "source": [
    "import matplotlib.pyplot as plt\n",
    "\n",
    "# Accuracy\n",
    "plt.plot(history.history['accuracy'], label='Train Acc')\n",
    "plt.plot(history.history['val_accuracy'], label='Val Acc')\n",
    "plt.title('Accuracy')\n",
    "plt.legend()\n",
    "plt.show()\n",
    "\n",
    "# AUC\n",
    "plt.plot(history.history['auc'], label='Train AUC')\n",
    "plt.plot(history.history['val_auc'], label='Val AUC')\n",
    "plt.title('AUC')\n",
    "plt.legend()\n",
    "plt.show()\n"
   ]
  },
  {
   "cell_type": "markdown",
   "id": "8c09f4f3-b8c9-4b18-a255-f0d88b2191ea",
   "metadata": {},
   "source": [
    "# Logistic Regression "
   ]
  },
  {
   "cell_type": "code",
   "execution_count": 147,
   "id": "e394f3ce-1344-4b1a-a79b-9cba67f5614a",
   "metadata": {},
   "outputs": [],
   "source": [
    "from sklearn.linear_model import LogisticRegression\n",
    "from sklearn.metrics import accuracy_score, roc_curve, classification_report, confusion_matrix "
   ]
  },
  {
   "cell_type": "code",
   "execution_count": 148,
   "id": "aff695e9-60f7-4b22-b54b-2370f0266091",
   "metadata": {},
   "outputs": [],
   "source": [
    "lr = LogisticRegression(max_iter= 1000)"
   ]
  },
  {
   "cell_type": "code",
   "execution_count": 149,
   "id": "dd2f9fb8-33be-4b85-ae43-e9540e0f77c2",
   "metadata": {},
   "outputs": [
    {
     "name": "stderr",
     "output_type": "stream",
     "text": [
      "/home/khatri.say/.local/lib/python3.8/site-packages/sklearn/utils/validation.py:1183: DataConversionWarning: A column-vector y was passed when a 1d array was expected. Please change the shape of y to (n_samples, ), for example using ravel().\n",
      "  y = column_or_1d(y, warn=True)\n"
     ]
    },
    {
     "data": {
      "text/html": [
       "<style>#sk-container-id-6 {color: black;}#sk-container-id-6 pre{padding: 0;}#sk-container-id-6 div.sk-toggleable {background-color: white;}#sk-container-id-6 label.sk-toggleable__label {cursor: pointer;display: block;width: 100%;margin-bottom: 0;padding: 0.3em;box-sizing: border-box;text-align: center;}#sk-container-id-6 label.sk-toggleable__label-arrow:before {content: \"▸\";float: left;margin-right: 0.25em;color: #696969;}#sk-container-id-6 label.sk-toggleable__label-arrow:hover:before {color: black;}#sk-container-id-6 div.sk-estimator:hover label.sk-toggleable__label-arrow:before {color: black;}#sk-container-id-6 div.sk-toggleable__content {max-height: 0;max-width: 0;overflow: hidden;text-align: left;background-color: #f0f8ff;}#sk-container-id-6 div.sk-toggleable__content pre {margin: 0.2em;color: black;border-radius: 0.25em;background-color: #f0f8ff;}#sk-container-id-6 input.sk-toggleable__control:checked~div.sk-toggleable__content {max-height: 200px;max-width: 100%;overflow: auto;}#sk-container-id-6 input.sk-toggleable__control:checked~label.sk-toggleable__label-arrow:before {content: \"▾\";}#sk-container-id-6 div.sk-estimator input.sk-toggleable__control:checked~label.sk-toggleable__label {background-color: #d4ebff;}#sk-container-id-6 div.sk-label input.sk-toggleable__control:checked~label.sk-toggleable__label {background-color: #d4ebff;}#sk-container-id-6 input.sk-hidden--visually {border: 0;clip: rect(1px 1px 1px 1px);clip: rect(1px, 1px, 1px, 1px);height: 1px;margin: -1px;overflow: hidden;padding: 0;position: absolute;width: 1px;}#sk-container-id-6 div.sk-estimator {font-family: monospace;background-color: #f0f8ff;border: 1px dotted black;border-radius: 0.25em;box-sizing: border-box;margin-bottom: 0.5em;}#sk-container-id-6 div.sk-estimator:hover {background-color: #d4ebff;}#sk-container-id-6 div.sk-parallel-item::after {content: \"\";width: 100%;border-bottom: 1px solid gray;flex-grow: 1;}#sk-container-id-6 div.sk-label:hover label.sk-toggleable__label {background-color: #d4ebff;}#sk-container-id-6 div.sk-serial::before {content: \"\";position: absolute;border-left: 1px solid gray;box-sizing: border-box;top: 0;bottom: 0;left: 50%;z-index: 0;}#sk-container-id-6 div.sk-serial {display: flex;flex-direction: column;align-items: center;background-color: white;padding-right: 0.2em;padding-left: 0.2em;position: relative;}#sk-container-id-6 div.sk-item {position: relative;z-index: 1;}#sk-container-id-6 div.sk-parallel {display: flex;align-items: stretch;justify-content: center;background-color: white;position: relative;}#sk-container-id-6 div.sk-item::before, #sk-container-id-6 div.sk-parallel-item::before {content: \"\";position: absolute;border-left: 1px solid gray;box-sizing: border-box;top: 0;bottom: 0;left: 50%;z-index: -1;}#sk-container-id-6 div.sk-parallel-item {display: flex;flex-direction: column;z-index: 1;position: relative;background-color: white;}#sk-container-id-6 div.sk-parallel-item:first-child::after {align-self: flex-end;width: 50%;}#sk-container-id-6 div.sk-parallel-item:last-child::after {align-self: flex-start;width: 50%;}#sk-container-id-6 div.sk-parallel-item:only-child::after {width: 0;}#sk-container-id-6 div.sk-dashed-wrapped {border: 1px dashed gray;margin: 0 0.4em 0.5em 0.4em;box-sizing: border-box;padding-bottom: 0.4em;background-color: white;}#sk-container-id-6 div.sk-label label {font-family: monospace;font-weight: bold;display: inline-block;line-height: 1.2em;}#sk-container-id-6 div.sk-label-container {text-align: center;}#sk-container-id-6 div.sk-container {/* jupyter's `normalize.less` sets `[hidden] { display: none; }` but bootstrap.min.css set `[hidden] { display: none !important; }` so we also need the `!important` here to be able to override the default hidden behavior on the sphinx rendered scikit-learn.org. See: https://github.com/scikit-learn/scikit-learn/issues/21755 */display: inline-block !important;position: relative;}#sk-container-id-6 div.sk-text-repr-fallback {display: none;}</style><div id=\"sk-container-id-6\" class=\"sk-top-container\"><div class=\"sk-text-repr-fallback\"><pre>LogisticRegression(max_iter=1000)</pre><b>In a Jupyter environment, please rerun this cell to show the HTML representation or trust the notebook. <br />On GitHub, the HTML representation is unable to render, please try loading this page with nbviewer.org.</b></div><div class=\"sk-container\" hidden><div class=\"sk-item\"><div class=\"sk-estimator sk-toggleable\"><input class=\"sk-toggleable__control sk-hidden--visually\" id=\"sk-estimator-id-8\" type=\"checkbox\" checked><label for=\"sk-estimator-id-8\" class=\"sk-toggleable__label sk-toggleable__label-arrow\">LogisticRegression</label><div class=\"sk-toggleable__content\"><pre>LogisticRegression(max_iter=1000)</pre></div></div></div></div></div>"
      ],
      "text/plain": [
       "LogisticRegression(max_iter=1000)"
      ]
     },
     "execution_count": 149,
     "metadata": {},
     "output_type": "execute_result"
    }
   ],
   "source": [
    "lr.fit(X_train_scaled,y_train)"
   ]
  },
  {
   "cell_type": "code",
   "execution_count": 150,
   "id": "eb69b300-f16c-4d05-adde-eac2b950af88",
   "metadata": {},
   "outputs": [],
   "source": [
    "y_pred = lr.predict(X_test_scaled)"
   ]
  },
  {
   "cell_type": "code",
   "execution_count": 151,
   "id": "0ffcd916-0f3d-44d4-b2ad-f8d341ceeb36",
   "metadata": {},
   "outputs": [
    {
     "data": {
      "text/plain": [
       "0.8100416666666667"
      ]
     },
     "execution_count": 151,
     "metadata": {},
     "output_type": "execute_result"
    }
   ],
   "source": [
    "accuracy_score(y_pred, y_test)"
   ]
  },
  {
   "cell_type": "code",
   "execution_count": 160,
   "id": "0a40d0ce-37b3-4924-9bdb-53ee84318656",
   "metadata": {},
   "outputs": [
    {
     "name": "stdout",
     "output_type": "stream",
     "text": [
      "Custom Threshold Report:\n",
      "               precision    recall  f1-score   support\n",
      "\n",
      "           0       0.84      0.94      0.89     18682\n",
      "           1       0.65      0.38      0.48      5318\n",
      "\n",
      "    accuracy                           0.82     24000\n",
      "   macro avg       0.75      0.66      0.69     24000\n",
      "weighted avg       0.80      0.82      0.80     24000\n",
      "\n"
     ]
    }
   ],
   "source": [
    "proba = lr.predict_proba(X_test_scaled)[:, 1]\n",
    "\n",
    "threshold = 0.4\n",
    "custom_preds = (proba >= threshold).astype(int)\n",
    "\n",
    "print(\"Custom Threshold Report:\\n\", classification_report(y_test, custom_preds))\n"
   ]
  },
  {
   "cell_type": "code",
   "execution_count": null,
   "id": "8d0feb3a-176a-4ba3-b19f-cfb331bc5243",
   "metadata": {},
   "outputs": [],
   "source": []
  }
 ],
 "metadata": {
  "kernelspec": {
   "display_name": "Python 3",
   "language": "python",
   "name": "python3"
  },
  "language_info": {
   "codemirror_mode": {
    "name": "ipython",
    "version": 3
   },
   "file_extension": ".py",
   "mimetype": "text/x-python",
   "name": "python",
   "nbconvert_exporter": "python",
   "pygments_lexer": "ipython3",
   "version": "3.8.8"
  }
 },
 "nbformat": 4,
 "nbformat_minor": 5
}
